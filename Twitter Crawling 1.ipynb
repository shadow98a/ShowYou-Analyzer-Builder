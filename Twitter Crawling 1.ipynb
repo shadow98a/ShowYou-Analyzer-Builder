{
 "cells": [
  {
   "cell_type": "code",
   "execution_count": 9,
   "metadata": {},
   "outputs": [],
   "source": [
    "def crawl_twitter(tweet_list, days_range, start, end, query_search, max_tweets):\n",
    "    import requests\n",
    "    from bs4 import BeautifulSoup\n",
    "\n",
    "    def get_bs_obj(url):\n",
    "        result = requests.get(url)\n",
    "        bs_obj = BeautifulSoup(result.content, \"html.parser\")\n",
    "\n",
    "        return bs_obj\n",
    "\n",
    "    try:\n",
    "        import GetOldTweets3 as got\n",
    "    except:\n",
    "        !pip install GetOldTweets3\n",
    "        import GetOldTweets3 as got\n",
    "\n",
    "    import datetime\n",
    "\n",
    "    start = datetime.datetime.strptime(start, \"%Y-%m-%d\")\n",
    "    end = datetime.datetime.strptime(end, \"%Y-%m-%d\")\n",
    "    date_generated = [start + datetime.timedelta(days=x) for x in range(0, (end-start).days)]\n",
    "\n",
    "    for date in date_generated:\n",
    "        days_range.append(date.strftime(\"%Y-%m-%d\"))\n",
    "\n",
    "    print(\"=== 설정된 트윗 수집 기간은 {} 에서 {} 까지 입니다 ===\".format(days_range[0], days_range[-1]))\n",
    "    print(\"=== 총 {}일 간의 데이터 수집 ===\".format(len(days_range)))\n",
    "\n",
    "\n",
    "    import time\n",
    "\n",
    "    # 수집 기간 맞추기\n",
    "    start_date = days_range[0]\n",
    "    end_date = (datetime.datetime.strptime(days_range[-1], \"%Y-%m-%d\") \n",
    "                + datetime.timedelta(days=1)).strftime(\"%Y-%m-%d\") # setUntil이 끝을 포함하지 않으므로, day + 1\n",
    "\n",
    "    # 트윗 수집 기준 정의\n",
    "    tweetCriteria = got.manager.TweetCriteria().setQuerySearch(query_search)\\\n",
    "                                               .setSince(start_date)\\\n",
    "                                               .setUntil(end_date)\\\n",
    "                                               .setMaxTweets(max_tweets)\n",
    "\n",
    "    # 수집 with GetOldTweet3\n",
    "    print(\"Collecting data start.. from {} to {}\".format(days_range[0], days_range[-1]))\n",
    "    start_time = time.time()\n",
    "\n",
    "    tweet = got.manager.TweetManager.getTweets(tweetCriteria)\n",
    "\n",
    "    print(\"Collecting data end.. {0:0.2f} Minutes\".format((time.time() - start_time)/60))\n",
    "    print(\"=== Total num of tweets is {} ===\".format(len(tweet)))\n",
    "\n",
    "    from random import uniform\n",
    "    from tqdm import tqdm_notebook\n",
    "\n",
    "    for index in tqdm_notebook(tweet):\n",
    "\n",
    "        # 메타데이터 목록 \n",
    "        username = index.username\n",
    "        link = index.permalink \n",
    "        content = index.text\n",
    "\n",
    "      # 결과 합치기\n",
    "        info_list = [ username, content, link]\n",
    "        tweet_list.append(info_list)\n",
    "\n",
    "        # 휴식 \n",
    "        time.sleep(uniform(1,2))"
   ]
  },
  {
   "cell_type": "code",
   "execution_count": 10,
   "metadata": {},
   "outputs": [],
   "source": [
    "def save_csv(tweet_list, days_range):\n",
    "    import pandas as pd\n",
    "\n",
    "    twitter_df = pd.DataFrame(tweet_list, \n",
    "                              columns = [\"user_name\", \"text\", \"link\"])\n",
    "\n",
    "    # csv 파일 만들기\n",
    "    twitter_df.to_csv(\"영화_twitter_data_{}_to_{}.csv\".format(days_range[0], days_range[-1]), index=False)\n",
    "    print(\"=== {} tweets are successfully saved ===\".format(len(tweet_list)))\n",
    "\n",
    "    df_tweet = pd.read_csv('영화_twitter_data_{}_to_{}.csv'.format(days_range[0], days_range[-1]))\n",
    "    df_tweet.head(10)"
   ]
  },
  {
   "cell_type": "code",
   "execution_count": null,
   "metadata": {},
   "outputs": [
    {
     "name": "stdout",
     "output_type": "stream",
     "text": [
      "=== 설정된 트윗 수집 기간은 2019-04-01 에서 2019-04-29 까지 입니다 ===\n",
      "=== 총 29일 간의 데이터 수집 ===\n",
      "Collecting data start.. from 2019-04-01 to 2019-04-29\n",
      "Collecting data end.. 15.60 Minutes\n",
      "=== Total num of tweets is 10000 ===\n"
     ]
    },
    {
     "name": "stderr",
     "output_type": "stream",
     "text": [
      "C:\\Users\\shadow98a\\anaconda3\\lib\\site-packages\\ipykernel_launcher.py:55: TqdmDeprecationWarning: This function will be removed in tqdm==5.0.0\n",
      "Please use `tqdm.notebook.tqdm` instead of `tqdm.tqdm_notebook`\n"
     ]
    },
    {
     "data": {
      "application/vnd.jupyter.widget-view+json": {
       "model_id": "40366cf9e4c844c78850b66f3c0c9707",
       "version_major": 2,
       "version_minor": 0
      },
      "text/plain": [
       "HBox(children=(FloatProgress(value=0.0, max=10000.0), HTML(value='')))"
      ]
     },
     "metadata": {},
     "output_type": "display_data"
    }
   ],
   "source": [
    "days_range = []\n",
    "tweet_list = []\n",
    "\n",
    "crawl_twitter(tweet_list, days_range, \"2019-04-01\", \"2019-04-30\", '문재인', 10000)\n",
    "save_csv(tweet_list, days_range)"
   ]
  },
  {
   "cell_type": "code",
   "execution_count": null,
   "metadata": {},
   "outputs": [],
   "source": [
    "days_range = []\n",
    "tweet_list = []\n",
    "\n",
    "crawl_twitter(tweet_list, days_range, \"2019-03-01\", \"2019-03-31\", '문재인', 10000)\n",
    "save_csv(tweet_list, days_range)"
   ]
  },
  {
   "cell_type": "code",
   "execution_count": null,
   "metadata": {},
   "outputs": [],
   "source": []
  },
  {
   "cell_type": "code",
   "execution_count": null,
   "metadata": {},
   "outputs": [],
   "source": []
  },
  {
   "cell_type": "code",
   "execution_count": null,
   "metadata": {},
   "outputs": [],
   "source": []
  }
 ],
 "metadata": {
  "kernelspec": {
   "display_name": "Python 3",
   "language": "python",
   "name": "python3"
  },
  "language_info": {
   "codemirror_mode": {
    "name": "ipython",
    "version": 3
   },
   "file_extension": ".py",
   "mimetype": "text/x-python",
   "name": "python",
   "nbconvert_exporter": "python",
   "pygments_lexer": "ipython3",
   "version": "3.6.10"
  }
 },
 "nbformat": 4,
 "nbformat_minor": 4
}
