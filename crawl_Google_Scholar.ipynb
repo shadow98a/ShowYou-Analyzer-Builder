{
 "cells": [
  {
   "cell_type": "code",
   "execution_count": 1,
   "metadata": {},
   "outputs": [],
   "source": [
    "def get_scisig(session):\n",
    "    URL=\"https://scholar.google.com\"\n",
    "    response=session.get(URL)\n",
    "    \n",
    "    if(response.status_code==200):\n",
    "        from bs4 import BeautifulSoup\n",
    "        beautiful_soup=BeautifulSoup(response.text,'html.parser')\n",
    "        html=beautiful_soup.find('html')\n",
    "        body=html.find('body')\n",
    "        gs_top=body.find('div',{'id':'gs_top'})\n",
    "        gs_ftr=gs_top.find('div',{'id':'gs_ftr'})\n",
    "        gs_lp_d=gs_ftr.find('div',{'id':'gs_lp_d'})\n",
    "        gs_md_ul_tb_gs_md_ulr=gs_lp_d.find('div',{'class':'gs_md_ul_tb gs_md_ulr'})\n",
    "        gs_md_ul=gs_md_ul_tb_gs_md_ulr.find('div',{'class':'gs_md_ul'})\n",
    "        gs_mid_lis=gs_md_ul.find_all('a')\n",
    "        a=gs_mid_lis[1]\n",
    "        \n",
    "        href=a['href']\n",
    "        \n",
    "        from urllib import parse\n",
    "        parse_result=parse.urlparse(href)\n",
    "        parameters=parse.parse_qs(parse_result.query)\n",
    "        scisigs=parameters['scisig']\n",
    "        scisig=scisigs[0]\n",
    "        \n",
    "        return scisig\n",
    "    \n",
    "    else:\n",
    "        return -1"
   ]
  },
  {
   "cell_type": "code",
   "execution_count": 19,
   "metadata": {},
   "outputs": [],
   "source": [
    "def get_first_response(session,q,scisig):\n",
    "    URL=\"https://scholar.google.com/scholar_setprefs\"\n",
    "    params={}\n",
    "    params['q']=q\n",
    "    params['scisig']=scisig\n",
    "    params['scisf']=4\n",
    "    params['save']=''\n",
    "    response=session.get(URL,params=params)\n",
    "    \n",
    "    if(response.status_code==200):\n",
    "        from bs4 import BeautifulSoup\n",
    "        beautiful_soup=BeautifulSoup(response.text,'html.parser')\n",
    "        html=beautiful_soup.find('html')\n",
    "        body=html.find('body')\n",
    "        print(body)\n",
    "        gs_top=body.find('div',{'id':'gs_top'})\n",
    "        gs_bdy=gs_top.find('div',{'id':'gs_bdy'})\n",
    "        gs_bdy_ccl=gs_bdy.find('div',{'id':'gs_bdy_ccl'})\n",
    "        gs_res_ccl=gs_bdy_ccl.find('div',{'id':'gs_res_ccl'})\n",
    "        gs_res_ccl_mid=gs_res_ccl.find('div',{'id':'gs_res_ccl_mid'})\n",
    "        gs_r_gs_or_gs_scls=gs_res_ccl_mid.find_all('div',{'class':'gs_r gs_or gs_scl'})\n",
    "        \n",
    "        hrefs=[]\n",
    "        \n",
    "        for gs_r_gs_or_gs_scl in gs_r_gs_or_gs_scls:\n",
    "            gs_ri=gs_r_gs_or_gs_scl.find('div',{'class':'gs_ri'})\n",
    "            gs_fl=gs_ri.find('div',{'class':'gs_fl'})\n",
    "            a=gs_fl.find('a',{'class':'gs_nta gs_nph'})\n",
    "            \n",
    "            href=a['href']\n",
    "            hrefs.append(href)\n",
    "            \n",
    "        return hrefs\n",
    "    \n",
    "    else:\n",
    "        return -1\n",
    "    \n",
    "    \n",
    "    return response\n",
    "    "
   ]
  },
  {
   "cell_type": "code",
   "execution_count": 20,
   "metadata": {},
   "outputs": [],
   "source": [
    "def parse_hrefs(response):\n",
    "    if(response.status_code==200):\n",
    "        from bs4 import BeautifulSoup\n",
    "        beautiful_soup=BeautifulSoup(response.text,'html.parser')\n",
    "        html=beautiful_soup.find('html')\n",
    "        body=html.find('body')\n",
    "        gs_top=body.find('div',{'id':'gs_top'})\n",
    "        gs_bdy=gs_top.find('div',{'id':'gs_bdy'})\n",
    "        gs_bdy_ccl=gs_bdy.find('div',{'id':'gs_bdy_ccl'})\n",
    "        gs_res_ccl=gs_bdy_ccl.find('div',{'id':'gs_res_ccl'})\n",
    "        gs_res_ccl_mid=gs_res_ccl.find('div',{'id':'gs_res_ccl_mid'})\n",
    "        gs_r_gs_or_gs_scls=gs_res_ccl_mid.find_all('div',{'class':'gs_r gs_or gs_scl'})\n",
    "        \n",
    "        hrefs=[]\n",
    "        \n",
    "        for gs_r_gs_or_gs_scl in gs_r_gs_or_gs_scls:\n",
    "            gs_ri=gs_r_gs_or_gs_scl.find('div',{'class':'gs_ri'})\n",
    "            gs_fl=gs_ri.find('div',{'class':'gs_fl'})\n",
    "            a=gs_fl.find('a',{'class':'gs_nta gs_nph'})\n",
    "            \n",
    "            href=a['href']\n",
    "            hrefs.append(href)\n",
    "            \n",
    "        return hrefs\n",
    "    \n",
    "    else:\n",
    "        return -1"
   ]
  },
  {
   "cell_type": "code",
   "execution_count": 21,
   "metadata": {},
   "outputs": [],
   "source": [
    "def get_BibTeX(href):\n",
    "    import requests\n",
    "    response=requests.get(href)\n",
    "    \n",
    "    if(response.status_code==200):\n",
    "        import json\n",
    "        print(response.text)\n",
    "#         BibTeX=json.loads(response.text)\n",
    "        \n",
    "#         return BibTeX\n",
    "    \n",
    "    else:\n",
    "        return -1 "
   ]
  },
  {
   "cell_type": "code",
   "execution_count": 22,
   "metadata": {},
   "outputs": [],
   "source": [
    "def crawl_Google_Scholar(q):\n",
    "    import requests\n",
    "    session=requests.session()\n",
    "    scisig=get_scisig(session)\n",
    "    \n",
    "    response=get_first_response(session,q,scisig)\n",
    "    hrefs=parse_hrefs(response)\n",
    "    for href in hrefs:\n",
    "        get_BibTeX(href)"
   ]
  },
  {
   "cell_type": "code",
   "execution_count": 23,
   "metadata": {},
   "outputs": [
    {
     "name": "stdout",
     "output_type": "stream",
     "text": [
      "<body><div id=\"gs_top\" onclick=\"\"><style>#gs_md_s,.gs_md_wnw{z-index:1200;position:fixed;top:0;left:0;width:100%;height:100%;visibility:hidden;}#gs_md_s{background-color:#fff;opacity:.5;}.gs_el_ta #gs_md_s,.gs_el_ph #gs_md_s{background-color:#666;}.gs_md_wnw{transition:all 0s .218s;}#gs_md_s.gs_vis,.gs_md_wnw.gs_vis{visibility:visible;transition:all 0s;}.gs_md_wnw>.gs_md_d{position:relative;margin:0 auto;width:464px;box-shadow:2px 2px 8px rgba(0,0,0,.2);white-space:normal;}.gs_el_ta .gs_md_wnw>.gs_md_d,.gs_el_ph .gs_md_wnw>.gs_md_d{box-shadow:2px 2px 8px rgba(0,0,0,.65);}.gs_el_ph .gs_md_wnw>.gs_md_d{width:80%;max-width:440px;}.gs_el_ph .gs_md_wmw>.gs_md_d{width:100%;height:100%;max-width:none;border:none;box-shadow:none;transform:translate(0,100%);transform:translate(0,100vh);transition:transform .27s cubic-bezier(.4,0,.6,1),opacity 0s .27s,visibility 0s .27s,max-height 0s .27s;}.gs_el_ph .gs_md_wmw>.gs_md_d.gs_vis{transform:translate(0,0);transition:transform .3s cubic-bezier(0,0,.2,1);}.gs_md_wmw>.gs_md_d.gs_abt,.gs_el_ph .gs_md_wmw>.gs_md_d.gs_abt{transition:none;}.gs_md_hdr{display:flex;align-items:center;height:47px;border-bottom:1px solid #e0e0e0;border-bottom-color:rgba(0,0,0,.12);background-color:#f5f5f5;}.gs_md_hdr>a,.gs_md_hdr>a.gs_btn_lrge{flex:0 0 auto;width:41px;height:47px;}.gs_el_ph .gs_md_hdr>a{margin:0 2px 0 0;}.gs_el_ph a.gs_md_hdr_c{margin:0 0 0 2px;}.gs_md_hdr_b{margin:0 41px 0 16px;}.gs_el_ph .gs_md_hdr_b{margin:0 16px;}.gs_md_hdr_t:empty~.gs_md_hdr_b{margin-left:0;}.gs_md_hdr_b:empty{width:41px;margin:0;}.gs_el_ph .gs_md_hdr_b:empty{margin-right:2px;}.gs_md_hdr_b:empty:not(:last-child){display:none;}.gs_md_hdr_b>button{min-width:51px;height:33px;}.gs_md_hdr_t{flex:1 1 auto;font-size:18px;font-weight:normal;color:#666;overflow:hidden;text-overflow:ellipsis;white-space:nowrap;text-align:center;}.gs_md_bdy{overflow-y:auto;box-sizing:border-box;padding:24px 41px 0 41px;}.gs_md_bdy:after{display:block;content:\"\";clear:both;padding-bottom:24px;}.gs_el_ph .gs_md_bdy{padding:16px 16px 0 16px;}.gs_el_ph .gs_md_bdy:after{padding-bottom:16px;}.gs_el_ph .gs_md_wmw .gs_md_bdy{position:absolute;width:100%;top:48px;bottom:0;}.gs_md_lbl{display:block;font-size:16px;margin:0 0 16px 0;word-wrap:break-word;}.gs_md_btns{margin:24px 0 0 0;white-space:nowrap;}.gs_el_ph .gs_md_btns{margin:16px 0 0 0;}.gs_md_btns button{margin-right:16px;}.gs_md_btns button:last-child{margin-right:0;}.gs_md_prg{margin:24px 0;text-align:center;}.gs_md_prg .gs_alrt{padding:4px 16px;}.gs_md_ldg:before{content:\"\";position:absolute;top:0;left:0;bottom:0;right:0;background-color:#fff;opacity:.5;z-index:100;}</style><div id=\"gs_md_ldg\" style=\"display:none\">로드 중...</div><div id=\"gs_md_err\" style=\"display:none\">현재 시스템이 작동되지 않습니다. 나중에 다시 시도해 주세요.</div><div id=\"gs_md_s\"></div><div class=\"gs_md_wnw gs_md_wmw\" data-h=\"0\"><div aria-labelledby=\"gs_cit-t\" class=\"gs_md_d gs_ttzi\" data-cid=\"gs_citd\" data-wfc=\"gs_cit-x\" id=\"gs_cit\" role=\"dialog\" tabindex=\"-1\"><div class=\"gs_md_hdr\"><a aria-label=\"취소\" class=\"gs_btnCLS gs_md_x gs_md_hdr_c gs_in_ib gs_btn_lrge\" data-mdx=\"gs_cit\" href=\"javascript:void(0)\" id=\"gs_cit-x\" role=\"button\"><span class=\"gs_ico\"></span><span class=\"gs_lbl\"></span></a><h2 class=\"gs_md_hdr_t\" id=\"gs_cit-t\">인용</h2><div class=\"gs_md_hdr_b\"></div></div><div class=\"gs_md_bdy\" id=\"gs_cit-bdy\"><style>#gs_cit{width:520px;max-width:80%;}.gs_el_ph #gs_cit{width:100%;max-width:100%;}#gs_citt table{width:100%;margin-top:-8px;}#gs_citt td,#gs_citt th{vertical-align:top;padding:8px 0;}#gs_citt th{text-align:right;font-weight:normal;color:#777;padding-right:16px;white-space:nowrap;user-select:none;}#gs_citi{margin:16px 0 0 0;text-align:center;}.gs_el_ph #gs_citi{margin:16px 0 8px 0;}.gs_citi{margin-right:16px;white-space:nowrap;padding:7px 0 5px 0;}.gs_citi:first-child{margin-left:16px;}</style><div aria-live=\"assertive\" data-u=\"/scholar?q=info:{id}:scholar.google.com/&amp;output=cite&amp;scirp={p}&amp;hl=ko\" id=\"gs_citd\"></div></div></div></div><div class=\"gs_md_wnw gs_md_wmw\" data-h=\"0\"><div aria-labelledby=\"gs_asd-t\" class=\"gs_md_d gs_ttzi\" data-ifc=\"gs_asd_q\" data-wfc=\"gs_asd-x\" id=\"gs_asd\" role=\"dialog\" tabindex=\"-1\"><div class=\"gs_md_hdr\"><a aria-label=\"취소\" class=\"gs_btnCLS gs_md_x gs_md_hdr_c gs_in_ib gs_btn_lrge\" data-mdx=\"gs_asd\" href=\"javascript:void(0)\" id=\"gs_asd-x\" role=\"button\"><span class=\"gs_ico\"></span><span class=\"gs_lbl\"></span></a><h2 class=\"gs_md_hdr_t\" id=\"gs_asd-t\">고급 검색</h2><div class=\"gs_md_hdr_b\"><button aria-label=\"검색\" class=\"gs_btnG gs_in_ib gs_btn_act gs_btn_half gs_btn_lsb\" id=\"gs_asd_psb\" type=\"button\"><span class=\"gs_wr\"><span class=\"gs_ico\"></span><span class=\"gs_lbl\"></span></span></button></div></div><div class=\"gs_md_bdy\" id=\"gs_asd-bdy\"><style>#gs_asd{width:80%;max-width:552px;}.gs_el_ph #gs_asd{width:100%;max-width:100%;}#gs_asd_frm{margin-top:-6px;}.gs_el_tc #gs_asd_frm{margin-top:-8px;}.gs_asd_tr{clear:both;}.gs_el_tc .gs_asd_tr{padding:8px 0;}.gs_el_tc .gs_asd_tr:first-child{padding-bottom:0;}.gs_asd_dt{float:left;width:190px;padding:6px 2px 2px;}.gs_el_tc .gs_asd_dt{float:none;width:auto;padding:0 0 4px 0;}.gs_asd_dd{margin-left:194px;padding:2px;}.gs_el_tc .gs_asd_dd{margin-left:0;padding:0;}.gs_asd_yri .gs_in_txt{width:48px;}.gs_el_ph #gs_asd input,.gs_el_ph #gs_asd label{-webkit-tap-highlight-color:rgba(0,0,0,0);}.gs_asd_occtr{padding:5px 0;}.gs_el_tc .gs_asd_occtr{padding:0;}</style><form action=\"/scholar\" class=\"gs_scl\" id=\"gs_asd_frm\"><div class=\"gs_asd_tr\"><div class=\"gs_asd_dt\" id=\"gs_asd_dt_t\"><b>논문/자료 검색</b></div></div><div class=\"gs_asd_tr\"><div class=\"gs_asd_dt\"><label for=\"gs_asd_q\">다음 단어 <b>모두</b> 포함</label></div><div class=\"gs_asd_dd\"><div class=\"gs_in_txtw gs_in_txtm gs_in_txtb\"><input autocapitalize=\"off\" class=\"gs_in_txt\" id=\"gs_asd_q\" name=\"as_q\" type=\"text\" value=\"JTAG\"/></div></div></div><div class=\"gs_asd_tr\"><div class=\"gs_asd_dt\"><label for=\"gs_asd_epq\">다음 <b>문구 정확하게</b> 포함</label></div><div class=\"gs_asd_dd\"><div class=\"gs_in_txtw gs_in_txtm gs_in_txtb\"><input autocapitalize=\"off\" class=\"gs_in_txt\" id=\"gs_asd_epq\" name=\"as_epq\" type=\"text\" value=\"\"/></div></div></div><div class=\"gs_asd_tr\"><div class=\"gs_asd_dt\"><label for=\"gs_asd_oq\">다음 단어 <b>적어도 하나</b> 포함</label></div><div class=\"gs_asd_dd\"><div class=\"gs_in_txtw gs_in_txtm gs_in_txtb\"><input autocapitalize=\"off\" class=\"gs_in_txt\" id=\"gs_asd_oq\" name=\"as_oq\" type=\"text\" value=\"\"/></div></div></div><div class=\"gs_asd_tr\"><div class=\"gs_asd_dt\"><label for=\"gs_asd_eq\">다음 단어 <b>제외</b></label></div><div class=\"gs_asd_dd\"><div class=\"gs_in_txtw gs_in_txtm gs_in_txtb\"><input autocapitalize=\"off\" class=\"gs_in_txt\" id=\"gs_asd_eq\" name=\"as_eq\" type=\"text\" value=\"\"/></div></div></div><div class=\"gs_asd_tr\"><div class=\"gs_asd_dt\"><label for=\"gs_asd_occt\">검색어 위치 설정</label></div><div class=\"gs_asd_dd\"><div class=\"gs_asd_occtr\"><span class=\"gs_in_ra\" onclick=\"void(0)\"><input checked=\"\" id=\"gs_asd_occt_a\" name=\"as_occt\" type=\"radio\" value=\"any\"/><label for=\"gs_asd_occt_a\">논문/자료 전체에서 검색</label><span class=\"gs_chk\"></span><span class=\"gs_cbx\"></span></span></div><div class=\"gs_asd_occtr\"><span class=\"gs_in_ra\" onclick=\"void(0)\"><input id=\"gs_asd_occt_t\" name=\"as_occt\" type=\"radio\" value=\"title\"/><label for=\"gs_asd_occt_t\">논문/자료 제목에서 검색</label><span class=\"gs_chk\"></span><span class=\"gs_cbx\"></span></span></div></div></div><div class=\"gs_asd_tr\"><div class=\"gs_asd_dt\"><label for=\"gs_asd_sau\">다음 <b>저자</b>의 문서 검색</label></div><div class=\"gs_asd_dd\"><div class=\"gs_in_txtw gs_in_txtm gs_in_txtb\"><input autocapitalize=\"off\" class=\"gs_in_txt\" id=\"gs_asd_sau\" name=\"as_sauthors\" type=\"text\" value=\"\"/></div><div>예: <i>\"PJ Hayes\"</i> 또는 <i>McCarthy</i></div></div></div><div class=\"gs_asd_tr\"><div class=\"gs_asd_dt\"><label for=\"gs_asd_pub\">다음 매체에 <b>발표</b>된 문서 검색</label></div><div class=\"gs_asd_dd\"><div class=\"gs_in_txtw gs_in_txtm gs_in_txtb\"><input autocapitalize=\"off\" class=\"gs_in_txt\" id=\"gs_asd_pub\" name=\"as_publication\" type=\"text\" value=\"\"/></div><div>예: <i>대한안과학회지</i> 또는 <i>한국물리학회지</i></div></div></div><div class=\"gs_asd_tr\"><div class=\"gs_asd_dt\"><label for=\"gs_asd_ylo\">다음 <b>기간 중</b> 발표된 문서 검색</label></div><div class=\"gs_asd_dd\"><div class=\"gs_asd_yri\"><div class=\"gs_in_txtw gs_in_txtm\"><input autocapitalize=\"off\" class=\"gs_in_txt\" id=\"gs_asd_ylo\" maxlength=\"4\" name=\"as_ylo\" pattern=\"[0-9]*\" size=\"4\" type=\"text\" value=\"\"/></div> — <div class=\"gs_in_txtw gs_in_txtm\"><input autocapitalize=\"off\" class=\"gs_in_txt\" id=\"gs_asd_yhi\" maxlength=\"4\" name=\"as_yhi\" pattern=\"[0-9]*\" size=\"4\" type=\"text\" value=\"\"/></div></div><div>예: <i>1996</i></div></div></div><input name=\"hl\" type=\"hidden\" value=\"ko\"/><input name=\"oe\" type=\"hidden\" value=\"KSC\"/><input name=\"as_sdt\" type=\"hidden\" value=\"0,5\"/></form></div></div></div><!--[if lte IE 9]><div class=\"gs_alrt\" style=\"padding:16px\"><div>죄송합니다. 현재 Internet Explorer 버전에서는 일부 기능이 작동하지 않을 수 있습니다.</div><div>최적의 상태로 사용하려면 <a href=\"//www.google.com/chrome/\">Chrome</a> 또는 <a href=\"//www.mozilla.com/firefox/\">Mozilla Firefox</a>를 사용해 주세요.</div></div><![endif]--><div id=\"gs_hdr_drs\"></div><div class=\"gs_md_ulr\" data-cfc=\"gs_hdr_mnu\" data-shd=\"gs_hdr_drs\" data-wfc=\"gs_hdr_drw_mnu\" id=\"gs_hdr_drw\" role=\"dialog\" tabindex=\"-1\"><div id=\"gs_hdr_drw_in\"><div id=\"gs_hdr_drw_top\"><a aria-controls=\"gs_hdr_drw\" aria-label=\"옵션\" class=\"gs_btnMNT gs_in_ib gs_btn_lrge\" href=\"javascript:void(0)\" id=\"gs_hdr_drw_mnu\" role=\"button\"><span class=\"gs_ico\"></span><span class=\"gs_lbl\"></span></a><a aria-label=\"홈페이지\" href=\"/schhp?hl=ko&amp;oe=KSC&amp;as_sdt=0,5\" id=\"gs_hdr_drw_lgo\"></a></div><div><div class=\"gs_hdr_drw_sec\"><a class=\" gs_in_ib gs_md_li gs_md_lix gs_in_gray gs_sel\" href=\"/scholar?as_sdt=0,5&amp;q=JTAG&amp;hl=ko&amp;oe=KSC\" role=\"menuitem\"><span class=\"gs_ico\"></span><span class=\"gs_lbl\">학술자료</span></a><a class=\" gs_in_ib gs_md_li gs_md_lix gs_in_gray\" href=\"/citations?view_op=search_authors&amp;mauthors=JTAG&amp;hl=ko&amp;oe=KSC&amp;oi=drw\" role=\"menuitem\"><span class=\"gs_ico\"></span><span class=\"gs_lbl\">프로필</span></a></div><div class=\"gs_hdr_drw_sec\"><a class=\"gs_btnPRO gs_in_ib gs_md_li gs_md_lix gs_in_gray\" href=\"/citations?hl=ko&amp;oe=KSC\" role=\"menuitem\"><span class=\"gs_ico\"></span><span class=\"gs_lbl\">내 프로필</span></a><a class=\"gs_btnL gs_in_ib gs_md_li gs_md_lix gs_in_gray\" href=\"/scholar?scilib=1&amp;scioq=JTAG&amp;hl=ko&amp;oe=KSC&amp;as_sdt=0,5\" role=\"menuitem\"><span class=\"gs_ico\"></span><span class=\"gs_lbl\">내 서재</span></a><a class=\"gs_btnM gs_in_ib gs_md_li gs_md_lix gs_in_gray\" href=\"/scholar_alerts?view_op=list_alerts&amp;hl=ko&amp;oe=KSC\" role=\"menuitem\"><span class=\"gs_ico\"></span><span class=\"gs_lbl\">알리미</span></a><a class=\"gs_btnJ gs_in_ib gs_md_li gs_md_lix gs_in_gray\" href=\"/citations?view_op=top_venues&amp;hl=ko&amp;oe=KSC\" role=\"menuitem\"><span class=\"gs_ico\"></span><span class=\"gs_lbl\">통계</span></a></div><div class=\"gs_hdr_drw_sec\"><a class=\"gs_btnADV gs_in_ib gs_md_li gs_md_lix gs_in_gray\" href=\"javascript:void(0)\" id=\"gs_res_drw_adv\" role=\"menuitem\"><span class=\"gs_ico\"></span><span class=\"gs_lbl\">고급 검색</span></a></div><div class=\"gs_hdr_drw_sec\"><a class=\"gs_btnP gs_in_ib gs_md_li gs_md_lix gs_in_gray\" href=\"/scholar_settings?q=JTAG&amp;hl=ko&amp;oe=KSC&amp;as_sdt=0,5\" role=\"menuitem\"><span class=\"gs_ico\"></span><span class=\"gs_lbl\">설정</span></a></div></div><div class=\"gs_hdr_drw_sec\" id=\"gs_hdr_drw_bot\"><a class=\" gs_in_ib gs_md_li gs_md_lix gs_in_gray\" href=\"https://accounts.google.com/Login?hl=ko&amp;continue=https://scholar.google.com/scholar%3Fq%3DJTAG%26hl%3Dko%26oe%3DASCII%26as_sdt%3D0\"><span class=\"gs_ico\"></span><span class=\"gs_lbl\">로그인</span></a></div></div></div><div id=\"gs_hdr\" role=\"banner\"><a aria-controls=\"gs_hdr_drw\" class=\"gs_btnMNT gs_in_ib gs_btn_lrge\" href=\"javascript:void(0)\" id=\"gs_hdr_mnu\" role=\"button\"><span class=\"gs_ico\"></span><span class=\"gs_lbl\"></span></a><a aria-label=\"홈페이지\" class=\"gs_hdr_dso\" href=\"/schhp?hl=ko&amp;oe=KSC&amp;as_sdt=0,5\" id=\"gs_hdr_lgo\"></a><div id=\"gs_hdr_md\"><div id=\"gs_hdr_srch\"><form action=\"/scholar\" class=\"gs_hdr_tsc\" id=\"gs_hdr_frm\"><input name=\"hl\" type=\"hidden\" value=\"ko\"/><input name=\"oe\" type=\"hidden\" value=\"KSC\"/><input name=\"as_sdt\" type=\"hidden\" value=\"0,5\"/><div class=\"gs_in_txtw gs_in_txtb\"><input aria-label=\"검색\" autocapitalize=\"off\" class=\"gs_in_txt\" id=\"gs_hdr_tsi\" maxlength=\"2048\" name=\"q\" size=\"50\" type=\"text\" value=\"JTAG\"/></div><span id=\"gs_hdr_tsc\"><span class=\"gs_ico gs_ico_X\"></span></span><button aria-label=\"검색\" class=\"gs_btnG gs_in_ib gs_btn_act gs_btn_half gs_btn_lsb\" id=\"gs_hdr_tsb\" name=\"btnG\" type=\"submit\"><span class=\"gs_wr\"><span class=\"gs_ico\"></span><span class=\"gs_lbl\"></span></span></button></form></div></div><div id=\"gs_hdr_act\"><a href=\"https://accounts.google.com/Login?hl=ko&amp;continue=https://scholar.google.com/scholar%3Fq%3DJTAG%26hl%3Dko%26oe%3DASCII%26as_sdt%3D0\" id=\"gs_hdr_act_s\">로그인</a></div></div><style>#gs_alrt{position:fixed;bottom:48px;left:16px;max-width:384px;z-index:1250;display:flex;justify-content:space-between;align-items:center;font-size:13px;line-height:16px;color:#e2e2e2;background:#333;text-align:left;border-radius:3px;box-shadow:0 3px 5px -1px rgba(0,0,0,.2),0 6px 10px 0 rgba(0,0,0,.14),0 1px 18px 0 rgba(0,0,0,.12);visibility:hidden;transform-origin:center;transform:scale(0.8,0.8) translate(0,100%);}.gs_el_ph #gs_alrt{bottom:0;left:0;width:100%;max-width:none;border-radius:0;box-shadow:none;transform:scale(1,1) translate(0,100%);}#gs_alrt.gs_vis{visibility:visible;transform:scale(1,1) translate(0,0);}#gs_alrt.gs_anm{transition:transform .067s cubic-bezier(.4,0,1,1),visibility 0s .067s;}#gs_alrt.gs_vis.gs_anm{transition:transform .067s cubic-bezier(0,0,.2,1);}.gs_el_ph #gs_alrt.gs_anm{transition:transform .084s cubic-bezier(.4,0,1,1),visibility 0s .084s;}.gs_el_ph #gs_alrt.gs_vis.gs_anm{transition:transform .1s cubic-bezier(0,0,.2,1);}#gs_alrt_m{display:block;padding:16px;}#gs_alrt_l{display:block;padding:8px;margin:0 8px 0 -8px;border-radius:3px;color:#fcc934;text-transform:uppercase;text-decoration:none;}#gs_alrt_l:hover{background-color:rgba(255,255,255,.05)}#gs_alrt_l:active{background-color:rgba(255,255,255,.1)}#gs_alrt_l:empty{display:none}#gs_alrt_m a{padding:8px 0;color:#e2e2e2;text-decoration:underline;}#gs_alrt_m a:active{color:#f6aea9}</style><form action=\"\" id=\"gs_alrt\" method=\"post\"><span id=\"gs_alrt_m\"></span><span id=\"gs_alrt_h\"></span><a class=\"gs_fm_s\" data-fm=\"gs_alrt\" href=\"javascript:void(0)\" id=\"gs_alrt_l\"></a></form><div class=\" gs_ab_st\" id=\"gs_ab\"><div class=\"gs_btnGSL\" id=\"gs_ab_ico\"><span class=\"gs_ico\"></span></div><div id=\"gs_ab_ttl\"><div class=\"gs_ab_mdw\"><span class=\"gs_nph gs_nta\">학술자료</span><div class=\"gs_oph gs_ota\">학술검색</div></div></div><div id=\"gs_ab_md\"><div class=\"gs_ab_mdw\">검색결과 약 58,200개 (<b>0.03</b>초)</div></div><div id=\"gs_ab_btns\"><a class=\"gs_btnPRO gs_in_ib gs_nph gs_nta\" href=\"/citations?hl=ko&amp;oe=KSC\"><span class=\"gs_ico\"></span><span class=\"gs_lbl\">내 프로필</span></a><a class=\"gs_btnL gs_in_ib gs_nph gs_nta\" href=\"/scholar?scilib=1&amp;scioq=JTAG&amp;hl=ko&amp;oe=KSC&amp;as_sdt=0,5\"><span class=\"gs_ico\"></span><span class=\"gs_lbl\">내 서재</span></a><div class=\"gs_md_r gs_md_rmb gs_md_rmbl\" id=\"gs_res_ab_yy-r\"><button aria-controls=\"gs_res_ab_yy-d\" aria-haspopup=\"true\" class=\" gs_in_se gs_btn_mnu gs_btn_flat gs_btn_lrge gs_btn_half gs_btn_lsu gs_press gs_md_tb\" id=\"gs_res_ab_yy-b\" ontouchstart=\"gs_evt_dsp(event)\" type=\"button\"><span class=\"gs_wr\"><span class=\"gs_lbl\">연도</span><span class=\"gs_icm\"></span></span></button><div class=\"gs_md_d gs_md_ulr\" id=\"gs_res_ab_yy-d\" role=\"menu\" tabindex=\"-1\"><div class=\"gs_res_ab_dd_bdy\"><div class=\"gs_res_ab_dd_sec\"><a aria-checked=\"true\" class=\"gs_md_li gs_res_ab_sel\" href=\"/scholar?q=JTAG&amp;hl=ko&amp;oe=KSC&amp;as_sdt=0,5\" role=\"menuitemradio\" tabindex=\"-1\">모든 날짜</a><a class=\"gs_md_li\" href=\"/scholar?as_ylo=2020&amp;q=JTAG&amp;hl=ko&amp;oe=KSC&amp;as_sdt=0,5\" role=\"menuitemradio\" tabindex=\"-1\">2020 년부터</a><a class=\"gs_md_li\" href=\"/scholar?as_ylo=2019&amp;q=JTAG&amp;hl=ko&amp;oe=KSC&amp;as_sdt=0,5\" role=\"menuitemradio\" tabindex=\"-1\">2019 년부터</a><a class=\"gs_md_li\" href=\"/scholar?as_ylo=2016&amp;q=JTAG&amp;hl=ko&amp;oe=KSC&amp;as_sdt=0,5\" role=\"menuitemradio\" tabindex=\"-1\">2016 년부터</a></div><div class=\"gs_res_ab_dd_sec\"><a aria-checked=\"true\" class=\"gs_md_li gs_res_ab_sel\" href=\"/scholar?hl=ko&amp;oe=KSC&amp;as_sdt=0,5&amp;q=JTAG\" role=\"menuitemradio\" tabindex=\"-1\">관련도별 정렬</a><a class=\"gs_md_li\" href=\"/scholar?hl=ko&amp;oe=KSC&amp;as_sdt=0,5&amp;q=JTAG&amp;scisbd=1\" role=\"menuitemradio\" tabindex=\"-1\">날짜별 정렬</a></div></div></div></div><div class=\"gs_md_r gs_md_rmb gs_md_rmbl\" id=\"gs_res_ab_ad-r\"><button aria-controls=\"gs_res_ab_ad-d\" aria-haspopup=\"true\" aria-label=\"더보기\" class=\"gs_btnFLT gs_in_ib gs_btn_flat gs_btn_lrge gs_btn_half gs_btn_lsu gs_press gs_md_tb\" id=\"gs_res_ab_ad-b\" ontouchstart=\"gs_evt_dsp(event)\" type=\"button\"><span class=\"gs_wr\"><span class=\"gs_ico\"></span><span class=\"gs_lbl\"></span></span></button><div class=\"gs_md_d gs_md_ulr\" id=\"gs_res_ab_ad-d\" role=\"menu\" tabindex=\"-1\"><div class=\"gs_res_ab_dd_bdy\"><div class=\"gs_res_ab_dd_sec\"><a aria-checked=\"true\" class=\"gs_md_li gs_res_ab_sel\" href=\"/scholar?lr=&amp;q=JTAG&amp;hl=ko&amp;oe=KSC&amp;as_sdt=0,5\" role=\"menuitemradio\" tabindex=\"-1\">모든 언어</a><a class=\"gs_md_li\" href=\"/scholar?lr=lang_ko&amp;q=JTAG&amp;hl=ko&amp;oe=KSC&amp;as_sdt=0,5\" role=\"menuitemradio\" tabindex=\"-1\">한국어 웹</a></div><div class=\"gs_res_ab_dd_sec\"><a aria-checked=\"true\" class=\"gs_cb_gen gs_in_cb gs_md_li gs_sel\" data-s=\"1\" href=\"/scholar?as_sdt=1,5&amp;q=JTAG&amp;hl=ko&amp;oe=KSC\" role=\"menuitemcheckbox\" tabindex=\"-1\"><span class=\"gs_lbl\">특허 포함</span><span class=\"gs_chk\"></span><span class=\"gs_cbx\"></span></a><a aria-checked=\"true\" class=\"gs_cb_gen gs_in_cb gs_md_li gs_sel\" data-s=\"1\" href=\"/scholar?as_vis=1&amp;q=JTAG&amp;hl=ko&amp;oe=KSC&amp;as_sdt=0,5\" role=\"menuitemcheckbox\" tabindex=\"-1\"><span class=\"gs_lbl\">서지정보 포함</span><span class=\"gs_chk\"></span><span class=\"gs_cbx\"></span></a></div></div></div></div></div></div><div id=\"gs_bdy\"><div id=\"gs_bdy_sb\" role=\"navigation\"><div id=\"gs_bdy_sb_in\"></div></div><div id=\"gs_bdy_ccl\" role=\"main\"><style>#gs_captcha_ccl{max-width:680px;margin:21px 0;}.gs_el_sm #gs_captcha_ccl{margin:13px 0;}#gs_captcha_ccl h1{font-size:16px;line-height:24px;font-weight:normal;padding:0 0 16px 0;}</style><div id=\"gs_captcha_ccl\"><script>function gs_captcha_cb(){grecaptcha.render(\"gs_captcha_c\",{\"sitekey\":\"6LfFDwUTAAAAAIyC8IeC3aGLqVpvrB6ZpkfmAibj\",\"callback\":function(){document.getElementById(\"gs_captcha_f\").submit()}});};</script><form id=\"gs_captcha_f\" method=\"get\"><h1>사용자가 로봇이 아니라는 확인이 필요합니다.</h1><div id=\"gs_captcha_c\"></div><script async=\"\" defer=\"\" src=\"//www.google.com/recaptcha/api.js?onload=gs_captcha_cb&amp;render=explicit&amp;hl=ko\"></script><input name=\"q\" type=\"hidden\" value=\"JTAG\"/><input name=\"hl\" type=\"hidden\" value=\"ko\"/><input name=\"oe\" type=\"hidden\" value=\"KSC\"/><input name=\"as_sdt\" type=\"hidden\" value=\"0,5\"/></form><noscript><div class=\"gs_alrt\"><div>죄송합니다. 자바스크립트를 사용하도록 설정하지 않으면 사용자가 로봇이 아님을 확인할 수 없습니다.</div><div>브라우저에서 <a href=\"//support.google.com/answer/23852?hl=ko\">자바스크립트를 사용하도록 설정</a>한 후 이 페이지를 새로고침하세요.</div></div></noscript></div></div></div><script>var gs_zvb;!function(u){gs_zvb=new Image();gs_zvb.onload=gs_zvb.onerror=function(){gs_zvb=0};gs_zvb.src=u;}(\"https://id.google.com/verify/AHGvNoyabu1MK-aDsgl77coeUIehC98PWf4JFjX30XFj9I4nE-gq7sDgTbDiK3J8udRyuZLAWmJT42IwzZcdboEYFkhIefWZwv7sBlyRY7laH_LlneL99kgW3jRk7toUmi8.gif\");</script><noscript><img alt=\"\" height=\"1\" src=\"https://id.google.com/verify/AHGvNoyabu1MK-aDsgl77coeUIehC98PWf4JFjX30XFj9I4nE-gq7sDgTbDiK3J8udRyuZLAWmJT42IwzZcdboEYFkhIefWZwv7sBlyRY7laH_LlneL99kgW3jRk7toUmi8.gif\" style=\"margin:-1px\" width=\"1\"/></noscript><div id=\"gs_ftr_sp\" role=\"presentation\"></div><div id=\"gs_ftr\" role=\"contentinfo\"><div id=\"gs_ftr_rt\"><a href=\"/intl/ko/scholar/about.html\">도움말</a><a href=\"//www.google.com/intl/ko/policies/privacy/\">개인정보취급방침</a><a href=\"//www.google.com/intl/ko/policies/terms/\">약관</a></div></div></div></body>\n"
     ]
    },
    {
     "ename": "AttributeError",
     "evalue": "'NoneType' object has no attribute 'find'",
     "output_type": "error",
     "traceback": [
      "\u001b[1;31m---------------------------------------------------------------------------\u001b[0m",
      "\u001b[1;31mAttributeError\u001b[0m                            Traceback (most recent call last)",
      "\u001b[1;32m<ipython-input-23-1b8dcf134675>\u001b[0m in \u001b[0;36m<module>\u001b[1;34m\u001b[0m\n\u001b[1;32m----> 1\u001b[1;33m \u001b[0mcrawl_Google_Scholar\u001b[0m\u001b[1;33m(\u001b[0m\u001b[1;34m'JTAG'\u001b[0m\u001b[1;33m)\u001b[0m\u001b[1;33m\u001b[0m\u001b[1;33m\u001b[0m\u001b[0m\n\u001b[0m",
      "\u001b[1;32m<ipython-input-22-cf46176a40ec>\u001b[0m in \u001b[0;36mcrawl_Google_Scholar\u001b[1;34m(q)\u001b[0m\n\u001b[0;32m      4\u001b[0m     \u001b[0mscisig\u001b[0m\u001b[1;33m=\u001b[0m\u001b[0mget_scisig\u001b[0m\u001b[1;33m(\u001b[0m\u001b[0msession\u001b[0m\u001b[1;33m)\u001b[0m\u001b[1;33m\u001b[0m\u001b[1;33m\u001b[0m\u001b[0m\n\u001b[0;32m      5\u001b[0m \u001b[1;33m\u001b[0m\u001b[0m\n\u001b[1;32m----> 6\u001b[1;33m     \u001b[0mresponse\u001b[0m\u001b[1;33m=\u001b[0m\u001b[0mget_first_response\u001b[0m\u001b[1;33m(\u001b[0m\u001b[0msession\u001b[0m\u001b[1;33m,\u001b[0m\u001b[0mq\u001b[0m\u001b[1;33m,\u001b[0m\u001b[0mscisig\u001b[0m\u001b[1;33m)\u001b[0m\u001b[1;33m\u001b[0m\u001b[1;33m\u001b[0m\u001b[0m\n\u001b[0m\u001b[0;32m      7\u001b[0m     \u001b[0mhrefs\u001b[0m\u001b[1;33m=\u001b[0m\u001b[0mparse_hrefs\u001b[0m\u001b[1;33m(\u001b[0m\u001b[0mresponse\u001b[0m\u001b[1;33m)\u001b[0m\u001b[1;33m\u001b[0m\u001b[1;33m\u001b[0m\u001b[0m\n\u001b[0;32m      8\u001b[0m     \u001b[1;32mfor\u001b[0m \u001b[0mhref\u001b[0m \u001b[1;32min\u001b[0m \u001b[0mhrefs\u001b[0m\u001b[1;33m:\u001b[0m\u001b[1;33m\u001b[0m\u001b[1;33m\u001b[0m\u001b[0m\n",
      "\u001b[1;32m<ipython-input-19-bbe6330ae57b>\u001b[0m in \u001b[0;36mget_first_response\u001b[1;34m(session, q, scisig)\u001b[0m\n\u001b[0;32m     18\u001b[0m         \u001b[0mgs_bdy_ccl\u001b[0m\u001b[1;33m=\u001b[0m\u001b[0mgs_bdy\u001b[0m\u001b[1;33m.\u001b[0m\u001b[0mfind\u001b[0m\u001b[1;33m(\u001b[0m\u001b[1;34m'div'\u001b[0m\u001b[1;33m,\u001b[0m\u001b[1;33m{\u001b[0m\u001b[1;34m'id'\u001b[0m\u001b[1;33m:\u001b[0m\u001b[1;34m'gs_bdy_ccl'\u001b[0m\u001b[1;33m}\u001b[0m\u001b[1;33m)\u001b[0m\u001b[1;33m\u001b[0m\u001b[1;33m\u001b[0m\u001b[0m\n\u001b[0;32m     19\u001b[0m         \u001b[0mgs_res_ccl\u001b[0m\u001b[1;33m=\u001b[0m\u001b[0mgs_bdy_ccl\u001b[0m\u001b[1;33m.\u001b[0m\u001b[0mfind\u001b[0m\u001b[1;33m(\u001b[0m\u001b[1;34m'div'\u001b[0m\u001b[1;33m,\u001b[0m\u001b[1;33m{\u001b[0m\u001b[1;34m'id'\u001b[0m\u001b[1;33m:\u001b[0m\u001b[1;34m'gs_res_ccl'\u001b[0m\u001b[1;33m}\u001b[0m\u001b[1;33m)\u001b[0m\u001b[1;33m\u001b[0m\u001b[1;33m\u001b[0m\u001b[0m\n\u001b[1;32m---> 20\u001b[1;33m         \u001b[0mgs_res_ccl_mid\u001b[0m\u001b[1;33m=\u001b[0m\u001b[0mgs_res_ccl\u001b[0m\u001b[1;33m.\u001b[0m\u001b[0mfind\u001b[0m\u001b[1;33m(\u001b[0m\u001b[1;34m'div'\u001b[0m\u001b[1;33m,\u001b[0m\u001b[1;33m{\u001b[0m\u001b[1;34m'id'\u001b[0m\u001b[1;33m:\u001b[0m\u001b[1;34m'gs_res_ccl_mid'\u001b[0m\u001b[1;33m}\u001b[0m\u001b[1;33m)\u001b[0m\u001b[1;33m\u001b[0m\u001b[1;33m\u001b[0m\u001b[0m\n\u001b[0m\u001b[0;32m     21\u001b[0m         \u001b[0mgs_r_gs_or_gs_scls\u001b[0m\u001b[1;33m=\u001b[0m\u001b[0mgs_res_ccl_mid\u001b[0m\u001b[1;33m.\u001b[0m\u001b[0mfind_all\u001b[0m\u001b[1;33m(\u001b[0m\u001b[1;34m'div'\u001b[0m\u001b[1;33m,\u001b[0m\u001b[1;33m{\u001b[0m\u001b[1;34m'class'\u001b[0m\u001b[1;33m:\u001b[0m\u001b[1;34m'gs_r gs_or gs_scl'\u001b[0m\u001b[1;33m}\u001b[0m\u001b[1;33m)\u001b[0m\u001b[1;33m\u001b[0m\u001b[1;33m\u001b[0m\u001b[0m\n\u001b[0;32m     22\u001b[0m \u001b[1;33m\u001b[0m\u001b[0m\n",
      "\u001b[1;31mAttributeError\u001b[0m: 'NoneType' object has no attribute 'find'"
     ]
    }
   ],
   "source": [
    "crawl_Google_Scholar('JTAG')"
   ]
  },
  {
   "cell_type": "code",
   "execution_count": null,
   "metadata": {},
   "outputs": [],
   "source": []
  },
  {
   "cell_type": "code",
   "execution_count": null,
   "metadata": {},
   "outputs": [],
   "source": []
  }
 ],
 "metadata": {
  "kernelspec": {
   "display_name": "Python 3",
   "language": "python",
   "name": "python3"
  },
  "language_info": {
   "codemirror_mode": {
    "name": "ipython",
    "version": 3
   },
   "file_extension": ".py",
   "mimetype": "text/x-python",
   "name": "python",
   "nbconvert_exporter": "python",
   "pygments_lexer": "ipython3",
   "version": "3.6.10"
  }
 },
 "nbformat": 4,
 "nbformat_minor": 4
}
